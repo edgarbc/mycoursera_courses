{
 "cells": [
  {
   "cell_type": "markdown",
   "metadata": {},
   "source": [
    "You can download the `requirements.txt` for this course from the workspace of this lab. `File --> Open...`"
   ]
  },
  {
   "cell_type": "markdown",
   "metadata": {},
   "source": [
    "# L2: Create Agents to Research and Write an Article\n",
    "\n",
    "In this lesson, you will be introduced to the foundational concepts of multi-agent systems and get an overview of the crewAI framework."
   ]
  },
  {
   "cell_type": "markdown",
   "metadata": {},
   "source": [
    "The libraries are already installed in the classroom. If you're running this notebook on your own machine, you can install the following:\n",
    "```Python\n",
    "!pip install crewai==0.28.8 crewai_tools==0.1.6 langchain_community==0.0.29\n",
    "```"
   ]
  },
  {
   "cell_type": "code",
   "execution_count": 1,
   "metadata": {
    "height": 64
   },
   "outputs": [],
   "source": [
    "# Warning control\n",
    "import warnings\n",
    "warnings.filterwarnings('ignore')"
   ]
  },
  {
   "cell_type": "markdown",
   "metadata": {},
   "source": [
    "- Import from the crewAI libray."
   ]
  },
  {
   "cell_type": "code",
   "execution_count": 2,
   "metadata": {
    "height": 30
   },
   "outputs": [],
   "source": [
    "from crewai import Agent, Task, Crew"
   ]
  },
  {
   "cell_type": "markdown",
   "metadata": {},
   "source": [
    "- As a LLM for your agents, you'll be using OpenAI's `gpt-3.5-turbo`.\n",
    "\n",
    "**Optional Note:** crewAI also allow other popular models to be used as a LLM for your Agents. You can see some of the examples at the [bottom of the notebook](#1)."
   ]
  },
  {
   "cell_type": "code",
   "execution_count": 3,
   "metadata": {
    "height": 98
   },
   "outputs": [],
   "source": [
    "import os\n",
    "from utils import get_openai_api_key\n",
    "\n",
    "openai_api_key = get_openai_api_key()\n",
    "os.environ[\"OPENAI_MODEL_NAME\"] = 'gpt-3.5-turbo'"
   ]
  },
  {
   "cell_type": "markdown",
   "metadata": {},
   "source": [
    "## Creating Agents\n",
    "\n",
    "- Define your Agents, and provide them a `role`, `goal` and `backstory`.\n",
    "- It has been seen that LLMs perform better when they are role playing."
   ]
  },
  {
   "cell_type": "markdown",
   "metadata": {},
   "source": [
    "### Agent: Planner\n",
    "\n",
    "**Note**: The benefit of using _multiple strings_ :\n",
    "```Python\n",
    "varname = \"line 1 of text\"\n",
    "          \"line 2 of text\"\n",
    "```\n",
    "\n",
    "versus the _triple quote docstring_:\n",
    "```Python\n",
    "varname = \"\"\"line 1 of text\n",
    "             line 2 of text\n",
    "          \"\"\"\n",
    "```\n",
    "is that it can avoid adding those whitespaces and newline characters, making it better formatted to be passed to the LLM."
   ]
  },
  {
   "cell_type": "code",
   "execution_count": 4,
   "metadata": {
    "height": 234
   },
   "outputs": [],
   "source": [
    "planner = Agent(\n",
    "    role=\"Content Planner\",\n",
    "    goal=\"Plan engaging and factually accurate content on {topic}\",\n",
    "    backstory=\"You're working on planning a blog article \"\n",
    "              \"about the topic: {topic}.\"\n",
    "              \"You collect information that helps the \"\n",
    "              \"audience learn something \"\n",
    "              \"and make informed decisions. \"\n",
    "              \"Your work is the basis for \"\n",
    "              \"the Content Writer to write an article on this topic.\",\n",
    "    allow_delegation=False,\n",
    "\tverbose=True\n",
    ")"
   ]
  },
  {
   "cell_type": "markdown",
   "metadata": {},
   "source": [
    "### Agent: Writer"
   ]
  },
  {
   "cell_type": "code",
   "execution_count": 5,
   "metadata": {
    "height": 370
   },
   "outputs": [],
   "source": [
    "writer = Agent(\n",
    "    role=\"Content Writer\",\n",
    "    goal=\"Write insightful and factually accurate \"\n",
    "         \"opinion piece about the topic: {topic}\",\n",
    "    backstory=\"You're working on a writing \"\n",
    "              \"a new opinion piece about the topic: {topic}. \"\n",
    "              \"You base your writing on the work of \"\n",
    "              \"the Content Planner, who provides an outline \"\n",
    "              \"and relevant context about the topic. \"\n",
    "              \"You follow the main objectives and \"\n",
    "              \"direction of the outline, \"\n",
    "              \"as provide by the Content Planner. \"\n",
    "              \"You also provide objective and impartial insights \"\n",
    "              \"and back them up with information \"\n",
    "              \"provide by the Content Planner. \"\n",
    "              \"You acknowledge in your opinion piece \"\n",
    "              \"when your statements are opinions \"\n",
    "              \"as opposed to objective statements.\",\n",
    "    allow_delegation=False,\n",
    "    verbose=True\n",
    ")"
   ]
  },
  {
   "cell_type": "markdown",
   "metadata": {},
   "source": [
    "### Agent: Editor"
   ]
  },
  {
   "cell_type": "code",
   "execution_count": 6,
   "metadata": {
    "height": 268
   },
   "outputs": [],
   "source": [
    "editor = Agent(\n",
    "    role=\"Editor\",\n",
    "    goal=\"Edit a given blog post to align with \"\n",
    "         \"the writing style of the organization. \",\n",
    "    backstory=\"You are an editor who receives a blog post \"\n",
    "              \"from the Content Writer. \"\n",
    "              \"Your goal is to review the blog post \"\n",
    "              \"to ensure that it follows journalistic best practices,\"\n",
    "              \"provides balanced viewpoints \"\n",
    "              \"when providing opinions or assertions, \"\n",
    "              \"and also avoids major controversial topics \"\n",
    "              \"or opinions when possible.\",\n",
    "    allow_delegation=False,\n",
    "    verbose=True\n",
    ")"
   ]
  },
  {
   "cell_type": "markdown",
   "metadata": {},
   "source": [
    "## Creating Tasks\n",
    "\n",
    "- Define your Tasks, and provide them a `description`, `expected_output` and `agent`."
   ]
  },
  {
   "cell_type": "markdown",
   "metadata": {},
   "source": [
    "### Task: Plan"
   ]
  },
  {
   "cell_type": "code",
   "execution_count": 7,
   "metadata": {
    "height": 268
   },
   "outputs": [],
   "source": [
    "plan = Task(\n",
    "    description=(\n",
    "        \"1. Prioritize the latest trends, key players, \"\n",
    "            \"and noteworthy news on {topic}.\\n\"\n",
    "        \"2. Identify the target audience, considering \"\n",
    "            \"their interests and pain points.\\n\"\n",
    "        \"3. Develop a detailed content outline including \"\n",
    "            \"an introduction, key points, and a call to action.\\n\"\n",
    "        \"4. Include SEO keywords and relevant data or sources.\"\n",
    "    ),\n",
    "    expected_output=\"A comprehensive content plan document \"\n",
    "        \"with an outline, audience analysis, \"\n",
    "        \"SEO keywords, and resources.\",\n",
    "    agent=planner,\n",
    ")"
   ]
  },
  {
   "cell_type": "markdown",
   "metadata": {},
   "source": [
    "### Task: Write"
   ]
  },
  {
   "cell_type": "code",
   "execution_count": 8,
   "metadata": {
    "height": 319
   },
   "outputs": [],
   "source": [
    "write = Task(\n",
    "    description=(\n",
    "        \"1. Use the content plan to craft a compelling \"\n",
    "            \"blog post on {topic}.\\n\"\n",
    "        \"2. Incorporate SEO keywords naturally.\\n\"\n",
    "\t\t\"3. Sections/Subtitles are properly named \"\n",
    "            \"in an engaging manner.\\n\"\n",
    "        \"4. Ensure the post is structured with an \"\n",
    "            \"engaging introduction, insightful body, \"\n",
    "            \"and a summarizing conclusion.\\n\"\n",
    "        \"5. Proofread for grammatical errors and \"\n",
    "            \"alignment with the brand's voice.\\n\"\n",
    "    ),\n",
    "    expected_output=\"A well-written blog post \"\n",
    "        \"in markdown format, ready for publication, \"\n",
    "        \"each section should have 2 or 3 paragraphs.\",\n",
    "    agent=writer,\n",
    ")"
   ]
  },
  {
   "cell_type": "markdown",
   "metadata": {},
   "source": [
    "### Task: Edit"
   ]
  },
  {
   "cell_type": "code",
   "execution_count": 9,
   "metadata": {
    "height": 166
   },
   "outputs": [],
   "source": [
    "edit = Task(\n",
    "    description=(\"Proofread the given blog post for \"\n",
    "                 \"grammatical errors and \"\n",
    "                 \"alignment with the brand's voice.\"),\n",
    "    expected_output=\"A well-written blog post in markdown format, \"\n",
    "                    \"ready for publication, \"\n",
    "                    \"each section should have 2 or 3 paragraphs.\",\n",
    "    agent=editor\n",
    ")"
   ]
  },
  {
   "cell_type": "markdown",
   "metadata": {},
   "source": [
    "## Creating the Crew\n",
    "\n",
    "- Create your crew of Agents\n",
    "- Pass the tasks to be performed by those agents.\n",
    "    - **Note**: *For this simple example*, the tasks will be performed sequentially (i.e they are dependent on each other), so the _order_ of the task in the list _matters_.\n",
    "- `verbose=2` allows you to see all the logs of the execution. "
   ]
  },
  {
   "cell_type": "code",
   "execution_count": 10,
   "metadata": {
    "height": 98
   },
   "outputs": [],
   "source": [
    "crew = Crew(\n",
    "    agents=[planner, writer, editor],\n",
    "    tasks=[plan, write, edit],\n",
    "    verbose=2\n",
    ")"
   ]
  },
  {
   "cell_type": "markdown",
   "metadata": {},
   "source": [
    "## Running the Crew"
   ]
  },
  {
   "cell_type": "markdown",
   "metadata": {},
   "source": [
    "**Note**: LLMs can provide different outputs for they same input, so what you get might be different than what you see in the video."
   ]
  },
  {
   "cell_type": "code",
   "execution_count": 11,
   "metadata": {
    "height": 30
   },
   "outputs": [
    {
     "name": "stdout",
     "output_type": "stream",
     "text": [
      "\u001b[1m\u001b[95m [DEBUG]: == Working Agent: Content Planner\u001b[00m\n",
      "\u001b[1m\u001b[95m [INFO]: == Starting Task: 1. Prioritize the latest trends, key players, and noteworthy news on Artificial Intelligence.\n",
      "2. Identify the target audience, considering their interests and pain points.\n",
      "3. Develop a detailed content outline including an introduction, key points, and a call to action.\n",
      "4. Include SEO keywords and relevant data or sources.\u001b[00m\n",
      "\n",
      "\n",
      "\u001b[1m> Entering new CrewAgentExecutor chain...\u001b[0m\n",
      "\u001b[32;1m\u001b[1;3mI now can give a great answer\n",
      "\n",
      "Final Answer:\n",
      "Content Plan Document:\n",
      "\n",
      "Title: The Evolution of Artificial Intelligence: Latest Trends and Key Players\n",
      "\n",
      "Outline:\n",
      "I. Introduction\n",
      "- Brief overview of Artificial Intelligence (AI)\n",
      "- Importance of staying updated on AI trends\n",
      "II. Latest Trends in Artificial Intelligence\n",
      "- Machine learning advancements\n",
      "- Natural language processing developments\n",
      "- Ethical considerations in AI\n",
      "III. Key Players in the AI Industry\n",
      "- Google\n",
      "- IBM\n",
      "- Microsoft\n",
      "- Amazon\n",
      "IV. Noteworthy News in Artificial Intelligence\n",
      "- Recent AI applications in healthcare\n",
      "- AI breakthroughs in autonomous vehicles\n",
      "- Impact of AI on job market\n",
      "V. Target Audience Analysis\n",
      "- Tech enthusiasts\n",
      "- Business professionals looking to implement AI\n",
      "- Students interested in AI careers\n",
      "- General audience curious about AI advancements\n",
      "- Pain points: Understanding complex AI concepts, keeping up with rapidly changing technology\n",
      "VI. SEO Keywords\n",
      "- Artificial Intelligence trends\n",
      "- Key players in AI industry\n",
      "- Latest AI news\n",
      "- Artificial Intelligence developments\n",
      "VII. Resources\n",
      "- Forbes article on AI trends\n",
      "- TechCrunch report on top AI companies\n",
      "- MIT Technology Review on ethical AI considerations\n",
      "\n",
      "Call to Action:\n",
      "Stay informed about Artificial Intelligence by following reputable sources and engaging in discussions with industry experts. Consider how AI can benefit your personal and professional life, and explore opportunities to learn more about this rapidly evolving technology.\u001b[0m\n",
      "\n",
      "\u001b[1m> Finished chain.\u001b[0m\n",
      "\u001b[1m\u001b[92m [DEBUG]: == [Content Planner] Task output: Content Plan Document:\n",
      "\n",
      "Title: The Evolution of Artificial Intelligence: Latest Trends and Key Players\n",
      "\n",
      "Outline:\n",
      "I. Introduction\n",
      "- Brief overview of Artificial Intelligence (AI)\n",
      "- Importance of staying updated on AI trends\n",
      "II. Latest Trends in Artificial Intelligence\n",
      "- Machine learning advancements\n",
      "- Natural language processing developments\n",
      "- Ethical considerations in AI\n",
      "III. Key Players in the AI Industry\n",
      "- Google\n",
      "- IBM\n",
      "- Microsoft\n",
      "- Amazon\n",
      "IV. Noteworthy News in Artificial Intelligence\n",
      "- Recent AI applications in healthcare\n",
      "- AI breakthroughs in autonomous vehicles\n",
      "- Impact of AI on job market\n",
      "V. Target Audience Analysis\n",
      "- Tech enthusiasts\n",
      "- Business professionals looking to implement AI\n",
      "- Students interested in AI careers\n",
      "- General audience curious about AI advancements\n",
      "- Pain points: Understanding complex AI concepts, keeping up with rapidly changing technology\n",
      "VI. SEO Keywords\n",
      "- Artificial Intelligence trends\n",
      "- Key players in AI industry\n",
      "- Latest AI news\n",
      "- Artificial Intelligence developments\n",
      "VII. Resources\n",
      "- Forbes article on AI trends\n",
      "- TechCrunch report on top AI companies\n",
      "- MIT Technology Review on ethical AI considerations\n",
      "\n",
      "Call to Action:\n",
      "Stay informed about Artificial Intelligence by following reputable sources and engaging in discussions with industry experts. Consider how AI can benefit your personal and professional life, and explore opportunities to learn more about this rapidly evolving technology.\n",
      "\n",
      "\u001b[00m\n",
      "\u001b[1m\u001b[95m [DEBUG]: == Working Agent: Content Writer\u001b[00m\n",
      "\u001b[1m\u001b[95m [INFO]: == Starting Task: 1. Use the content plan to craft a compelling blog post on Artificial Intelligence.\n",
      "2. Incorporate SEO keywords naturally.\n",
      "3. Sections/Subtitles are properly named in an engaging manner.\n",
      "4. Ensure the post is structured with an engaging introduction, insightful body, and a summarizing conclusion.\n",
      "5. Proofread for grammatical errors and alignment with the brand's voice.\n",
      "\u001b[00m\n",
      "\n",
      "\n",
      "\u001b[1m> Entering new CrewAgentExecutor chain...\u001b[0m\n",
      "\u001b[32;1m\u001b[1;3mI now can give a great answer\n",
      "\n",
      "Final Answer:\n",
      "\n",
      "# The Evolution of Artificial Intelligence: Latest Trends and Key Players\n",
      "\n",
      "## Introduction\n",
      "Artificial Intelligence (AI) is a rapidly evolving field that has the potential to revolutionize various industries. Staying updated on the latest trends in AI is crucial for individuals and businesses alike to harness the full potential of this technology. Whether you're a tech enthusiast, a business professional looking to implement AI solutions, a student interested in AI careers, or simply curious about AI advancements, understanding the latest trends and key players in the industry is essential.\n",
      "\n",
      "## Latest Trends in Artificial Intelligence\n",
      "One of the most significant trends in AI is the advancements in machine learning. Machine learning algorithms are becoming increasingly sophisticated, enabling AI systems to learn from data and improve their performance over time. Natural language processing is another area seeing rapid developments, with AI systems now capable of understanding and generating human language with remarkable accuracy. However, with these advancements come ethical considerations, such as bias and privacy concerns, that need to be carefully addressed to ensure the responsible use of AI technologies.\n",
      "\n",
      "## Key Players in the AI Industry\n",
      "Several tech giants are leading the way in the AI industry, including Google, IBM, Microsoft, and Amazon. These companies are investing heavily in AI research and development, creating innovative solutions that are shaping the future of AI. From virtual assistants to autonomous vehicles, these key players are driving the adoption of AI technologies across various sectors and setting the standards for AI innovation.\n",
      "\n",
      "## Noteworthy News in Artificial Intelligence\n",
      "Recent developments in AI have had a profound impact on various industries. In healthcare, AI applications are revolutionizing patient care and medical research, enabling more accurate diagnoses and personalized treatments. AI breakthroughs in autonomous vehicles are paving the way for safer and more efficient transportation systems. However, the rise of AI also raises concerns about its impact on the job market, with automation potentially displacing traditional roles and creating new opportunities that require AI expertise.\n",
      "\n",
      "## Conclusion\n",
      "As AI continues to evolve at a rapid pace, it's essential to stay informed about the latest trends and key players in the industry. By following reputable sources and engaging in discussions with industry experts, you can gain valuable insights into how AI can benefit your personal and professional life. Whether you're exploring career opportunities in AI or looking to implement AI solutions in your business, understanding the latest developments in AI is key to staying ahead in this rapidly changing technological landscape. Embrace the potential of AI, and explore the opportunities to learn more about this transformative technology.\u001b[0m\n",
      "\n",
      "\u001b[1m> Finished chain.\u001b[0m\n",
      "\u001b[1m\u001b[92m [DEBUG]: == [Content Writer] Task output: # The Evolution of Artificial Intelligence: Latest Trends and Key Players\n",
      "\n",
      "## Introduction\n",
      "Artificial Intelligence (AI) is a rapidly evolving field that has the potential to revolutionize various industries. Staying updated on the latest trends in AI is crucial for individuals and businesses alike to harness the full potential of this technology. Whether you're a tech enthusiast, a business professional looking to implement AI solutions, a student interested in AI careers, or simply curious about AI advancements, understanding the latest trends and key players in the industry is essential.\n",
      "\n",
      "## Latest Trends in Artificial Intelligence\n",
      "One of the most significant trends in AI is the advancements in machine learning. Machine learning algorithms are becoming increasingly sophisticated, enabling AI systems to learn from data and improve their performance over time. Natural language processing is another area seeing rapid developments, with AI systems now capable of understanding and generating human language with remarkable accuracy. However, with these advancements come ethical considerations, such as bias and privacy concerns, that need to be carefully addressed to ensure the responsible use of AI technologies.\n",
      "\n",
      "## Key Players in the AI Industry\n",
      "Several tech giants are leading the way in the AI industry, including Google, IBM, Microsoft, and Amazon. These companies are investing heavily in AI research and development, creating innovative solutions that are shaping the future of AI. From virtual assistants to autonomous vehicles, these key players are driving the adoption of AI technologies across various sectors and setting the standards for AI innovation.\n",
      "\n",
      "## Noteworthy News in Artificial Intelligence\n",
      "Recent developments in AI have had a profound impact on various industries. In healthcare, AI applications are revolutionizing patient care and medical research, enabling more accurate diagnoses and personalized treatments. AI breakthroughs in autonomous vehicles are paving the way for safer and more efficient transportation systems. However, the rise of AI also raises concerns about its impact on the job market, with automation potentially displacing traditional roles and creating new opportunities that require AI expertise.\n",
      "\n",
      "## Conclusion\n",
      "As AI continues to evolve at a rapid pace, it's essential to stay informed about the latest trends and key players in the industry. By following reputable sources and engaging in discussions with industry experts, you can gain valuable insights into how AI can benefit your personal and professional life. Whether you're exploring career opportunities in AI or looking to implement AI solutions in your business, understanding the latest developments in AI is key to staying ahead in this rapidly changing technological landscape. Embrace the potential of AI, and explore the opportunities to learn more about this transformative technology.\n",
      "\n",
      "\u001b[00m\n",
      "\u001b[1m\u001b[95m [DEBUG]: == Working Agent: Editor\u001b[00m\n",
      "\u001b[1m\u001b[95m [INFO]: == Starting Task: Proofread the given blog post for grammatical errors and alignment with the brand's voice.\u001b[00m\n",
      "\n",
      "\n",
      "\u001b[1m> Entering new CrewAgentExecutor chain...\u001b[0m\n"
     ]
    },
    {
     "name": "stdout",
     "output_type": "stream",
     "text": [
      "\u001b[32;1m\u001b[1;3mI now can give a great answer\n",
      "\n",
      "Final Answer:\n",
      "# The Evolution of Artificial Intelligence: Latest Trends and Key Players\n",
      "\n",
      "## Introduction\n",
      "Artificial Intelligence (AI) is a rapidly evolving field that has the potential to revolutionize various industries. Staying updated on the latest trends in AI is crucial for individuals and businesses alike to harness the full potential of this technology. Whether you're a tech enthusiast, a business professional looking to implement AI solutions, a student interested in AI careers, or simply curious about AI advancements, understanding the latest trends and key players in the industry is essential.\n",
      "\n",
      "## Latest Trends in Artificial Intelligence\n",
      "One of the most significant trends in AI is the advancements in machine learning. Machine learning algorithms are becoming increasingly sophisticated, enabling AI systems to learn from data and improve their performance over time. Natural language processing is another area seeing rapid developments, with AI systems now capable of understanding and generating human language with remarkable accuracy. However, with these advancements come ethical considerations, such as bias and privacy concerns, that need to be carefully addressed to ensure the responsible use of AI technologies.\n",
      "\n",
      "## Key Players in the AI Industry\n",
      "Several tech giants are leading the way in the AI industry, including Google, IBM, Microsoft, and Amazon. These companies are investing heavily in AI research and development, creating innovative solutions that are shaping the future of AI. From virtual assistants to autonomous vehicles, these key players are driving the adoption of AI technologies across various sectors and setting the standards for AI innovation.\n",
      "\n",
      "## Noteworthy News in Artificial Intelligence\n",
      "Recent developments in AI have had a profound impact on various industries. In healthcare, AI applications are revolutionizing patient care and medical research, enabling more accurate diagnoses and personalized treatments. AI breakthroughs in autonomous vehicles are paving the way for safer and more efficient transportation systems. However, the rise of AI also raises concerns about its impact on the job market, with automation potentially displacing traditional roles and creating new opportunities that require AI expertise.\n",
      "\n",
      "## Conclusion\n",
      "As AI continues to evolve at a rapid pace, it's essential to stay informed about the latest trends and key players in the industry. By following reputable sources and engaging in discussions with industry experts, you can gain valuable insights into how AI can benefit your personal and professional life. Whether you're exploring career opportunities in AI or looking to implement AI solutions in your business, understanding the latest developments in AI is key to staying ahead in this rapidly changing technological landscape. Embrace the potential of AI, and explore the opportunities to learn more about this transformative technology.\u001b[0m\n",
      "\n",
      "\u001b[1m> Finished chain.\u001b[0m\n",
      "\u001b[1m\u001b[92m [DEBUG]: == [Editor] Task output: # The Evolution of Artificial Intelligence: Latest Trends and Key Players\n",
      "\n",
      "## Introduction\n",
      "Artificial Intelligence (AI) is a rapidly evolving field that has the potential to revolutionize various industries. Staying updated on the latest trends in AI is crucial for individuals and businesses alike to harness the full potential of this technology. Whether you're a tech enthusiast, a business professional looking to implement AI solutions, a student interested in AI careers, or simply curious about AI advancements, understanding the latest trends and key players in the industry is essential.\n",
      "\n",
      "## Latest Trends in Artificial Intelligence\n",
      "One of the most significant trends in AI is the advancements in machine learning. Machine learning algorithms are becoming increasingly sophisticated, enabling AI systems to learn from data and improve their performance over time. Natural language processing is another area seeing rapid developments, with AI systems now capable of understanding and generating human language with remarkable accuracy. However, with these advancements come ethical considerations, such as bias and privacy concerns, that need to be carefully addressed to ensure the responsible use of AI technologies.\n",
      "\n",
      "## Key Players in the AI Industry\n",
      "Several tech giants are leading the way in the AI industry, including Google, IBM, Microsoft, and Amazon. These companies are investing heavily in AI research and development, creating innovative solutions that are shaping the future of AI. From virtual assistants to autonomous vehicles, these key players are driving the adoption of AI technologies across various sectors and setting the standards for AI innovation.\n",
      "\n",
      "## Noteworthy News in Artificial Intelligence\n",
      "Recent developments in AI have had a profound impact on various industries. In healthcare, AI applications are revolutionizing patient care and medical research, enabling more accurate diagnoses and personalized treatments. AI breakthroughs in autonomous vehicles are paving the way for safer and more efficient transportation systems. However, the rise of AI also raises concerns about its impact on the job market, with automation potentially displacing traditional roles and creating new opportunities that require AI expertise.\n",
      "\n",
      "## Conclusion\n",
      "As AI continues to evolve at a rapid pace, it's essential to stay informed about the latest trends and key players in the industry. By following reputable sources and engaging in discussions with industry experts, you can gain valuable insights into how AI can benefit your personal and professional life. Whether you're exploring career opportunities in AI or looking to implement AI solutions in your business, understanding the latest developments in AI is key to staying ahead in this rapidly changing technological landscape. Embrace the potential of AI, and explore the opportunities to learn more about this transformative technology.\n",
      "\n",
      "\u001b[00m\n"
     ]
    }
   ],
   "source": [
    "result = crew.kickoff(inputs={\"topic\": \"Artificial Intelligence\"})"
   ]
  },
  {
   "cell_type": "markdown",
   "metadata": {},
   "source": [
    "- Display the results of your execution as markdown in the notebook."
   ]
  },
  {
   "cell_type": "code",
   "execution_count": 12,
   "metadata": {
    "height": 47
   },
   "outputs": [
    {
     "data": {
      "text/markdown": [
       "# The Evolution of Artificial Intelligence: Latest Trends and Key Players\n",
       "\n",
       "## Introduction\n",
       "Artificial Intelligence (AI) is a rapidly evolving field that has the potential to revolutionize various industries. Staying updated on the latest trends in AI is crucial for individuals and businesses alike to harness the full potential of this technology. Whether you're a tech enthusiast, a business professional looking to implement AI solutions, a student interested in AI careers, or simply curious about AI advancements, understanding the latest trends and key players in the industry is essential.\n",
       "\n",
       "## Latest Trends in Artificial Intelligence\n",
       "One of the most significant trends in AI is the advancements in machine learning. Machine learning algorithms are becoming increasingly sophisticated, enabling AI systems to learn from data and improve their performance over time. Natural language processing is another area seeing rapid developments, with AI systems now capable of understanding and generating human language with remarkable accuracy. However, with these advancements come ethical considerations, such as bias and privacy concerns, that need to be carefully addressed to ensure the responsible use of AI technologies.\n",
       "\n",
       "## Key Players in the AI Industry\n",
       "Several tech giants are leading the way in the AI industry, including Google, IBM, Microsoft, and Amazon. These companies are investing heavily in AI research and development, creating innovative solutions that are shaping the future of AI. From virtual assistants to autonomous vehicles, these key players are driving the adoption of AI technologies across various sectors and setting the standards for AI innovation.\n",
       "\n",
       "## Noteworthy News in Artificial Intelligence\n",
       "Recent developments in AI have had a profound impact on various industries. In healthcare, AI applications are revolutionizing patient care and medical research, enabling more accurate diagnoses and personalized treatments. AI breakthroughs in autonomous vehicles are paving the way for safer and more efficient transportation systems. However, the rise of AI also raises concerns about its impact on the job market, with automation potentially displacing traditional roles and creating new opportunities that require AI expertise.\n",
       "\n",
       "## Conclusion\n",
       "As AI continues to evolve at a rapid pace, it's essential to stay informed about the latest trends and key players in the industry. By following reputable sources and engaging in discussions with industry experts, you can gain valuable insights into how AI can benefit your personal and professional life. Whether you're exploring career opportunities in AI or looking to implement AI solutions in your business, understanding the latest developments in AI is key to staying ahead in this rapidly changing technological landscape. Embrace the potential of AI, and explore the opportunities to learn more about this transformative technology."
      ],
      "text/plain": [
       "<IPython.core.display.Markdown object>"
      ]
     },
     "execution_count": 12,
     "metadata": {},
     "output_type": "execute_result"
    }
   ],
   "source": [
    "from IPython.display import Markdown\n",
    "Markdown(result)"
   ]
  },
  {
   "cell_type": "markdown",
   "metadata": {},
   "source": [
    "## Try it Yourself\n",
    "\n",
    "- Pass in a topic of your choice and see what the agents come up with!"
   ]
  },
  {
   "cell_type": "code",
   "execution_count": null,
   "metadata": {
    "height": 47
   },
   "outputs": [],
   "source": [
    "topic = \"YOUR TOPIC HERE\"\n",
    "result = crew.kickoff(inputs={\"topic\": topic})"
   ]
  },
  {
   "cell_type": "code",
   "execution_count": null,
   "metadata": {
    "height": 30
   },
   "outputs": [],
   "source": [
    "Markdown(result)"
   ]
  },
  {
   "cell_type": "markdown",
   "metadata": {},
   "source": [
    "<a name='1'></a>\n",
    " ## Other Popular Models as LLM for your Agents"
   ]
  },
  {
   "cell_type": "markdown",
   "metadata": {},
   "source": [
    "#### Hugging Face (HuggingFaceHub endpoint)\n",
    "\n",
    "```Python\n",
    "from langchain_community.llms import HuggingFaceHub\n",
    "\n",
    "llm = HuggingFaceHub(\n",
    "    repo_id=\"HuggingFaceH4/zephyr-7b-beta\",\n",
    "    huggingfacehub_api_token=\"<HF_TOKEN_HERE>\",\n",
    "    task=\"text-generation\",\n",
    ")\n",
    "\n",
    "### you will pass \"llm\" to your agent function\n",
    "```"
   ]
  },
  {
   "cell_type": "markdown",
   "metadata": {},
   "source": [
    "#### Mistral API\n",
    "\n",
    "```Python\n",
    "OPENAI_API_KEY=your-mistral-api-key\n",
    "OPENAI_API_BASE=https://api.mistral.ai/v1\n",
    "OPENAI_MODEL_NAME=\"mistral-small\"\n",
    "```"
   ]
  },
  {
   "cell_type": "markdown",
   "metadata": {},
   "source": [
    "#### Cohere\n",
    "\n",
    "```Python\n",
    "from langchain_community.chat_models import ChatCohere\n",
    "# Initialize language model\n",
    "os.environ[\"COHERE_API_KEY\"] = \"your-cohere-api-key\"\n",
    "llm = ChatCohere()\n",
    "\n",
    "### you will pass \"llm\" to your agent function\n",
    "```"
   ]
  },
  {
   "cell_type": "markdown",
   "metadata": {},
   "source": [
    "### For using Llama locally with Ollama and more, checkout the crewAI documentation on [Connecting to any LLM](https://docs.crewai.com/how-to/LLM-Connections/)."
   ]
  },
  {
   "cell_type": "code",
   "execution_count": null,
   "metadata": {
    "height": 30
   },
   "outputs": [],
   "source": []
  },
  {
   "cell_type": "code",
   "execution_count": null,
   "metadata": {
    "height": 30
   },
   "outputs": [],
   "source": []
  },
  {
   "cell_type": "code",
   "execution_count": null,
   "metadata": {
    "height": 30
   },
   "outputs": [],
   "source": []
  }
 ],
 "metadata": {
  "colab": {
   "gpuType": "T4",
   "provenance": []
  },
  "kernelspec": {
   "display_name": "Python 3 (ipykernel)",
   "language": "python",
   "name": "python3"
  },
  "language_info": {
   "codemirror_mode": {
    "name": "ipython",
    "version": 3
   },
   "file_extension": ".py",
   "mimetype": "text/x-python",
   "name": "python",
   "nbconvert_exporter": "python",
   "pygments_lexer": "ipython3",
   "version": "3.11.9"
  }
 },
 "nbformat": 4,
 "nbformat_minor": 4
}
